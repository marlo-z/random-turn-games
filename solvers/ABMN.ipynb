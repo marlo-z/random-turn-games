{
 "cells": [
  {
   "cell_type": "code",
   "execution_count": 26,
   "metadata": {},
   "outputs": [],
   "source": [
    "import numpy as np\n",
    "from matplotlib import pyplot as plt\n",
    "from abmn_graph_classes import *"
   ]
  },
  {
   "attachments": {},
   "cell_type": "markdown",
   "metadata": {},
   "source": [
    "### Equations:\n",
    "\n",
    "\\begin{equation} \\tag{1}\n",
    "m_i^{(t)} = \\frac{a_i^{(t)}}{a_i^{(t)}+b_i^{(t)}} m_{i+1}^{(t-1)} + \\frac{b_i^{(t)}}{a_i^{(t)}+b_i^{(t)}} m_{i-1}^{(t-1)} - a_i^{(t)}\n",
    "\\end{equation}\n",
    "\n",
    "\\begin{equation*} \\tag{2}\n",
    "n_i^{(t)} = \\frac{a_i^{(t)}}{a_i^{(t)}+b_i^{(t)}} n_{i+1}^{(t-1)} + \\frac{b_i^{(t)}}{a_i^{(t)}+b_i^{(t)}} n_{i-1}^{(t-1)} - b_i^{(t)}\n",
    "\\end{equation*}\n",
    "\n",
    "\\begin{equation*} \\tag{3}\n",
    "(a_i^{(t)} + b_i^{(t)})^2 = b_i^{(t)} (m_{i+1}^{(t-1)} - m_{i-1}^{(t-1)})\n",
    "\\end{equation*}\n",
    "\n",
    "\\begin{equation*} \\tag{4}\n",
    "(a_i^{(t)} + b_i^{(t)})^2 = a_i^{(t)} (n_{i-1}^{(t-1)} - n_{i+1}^{(t-1)})\n",
    "\\end{equation*}"
   ]
  },
  {
   "cell_type": "markdown",
   "metadata": {},
   "source": [
    "### Solving:\n",
    "\n",
    "Strategy: at each time $t$, suppose we have $m_{i+1}^{(t-1)}$, $m_{i-1}^{(t-1)}$ and $n_{i+1}^{(t-1)}$, $n_{i-1}^{(t-1)}$. <br>\n",
    "Then, first solve for $a_i^{(t)}$ and $b_i^{(t)}$ using eq (3) and eq (4). <br>\n",
    "Plug into to eq (1) and eq (2) to solve for $m_{i}^{(t)}$ and $n_{i}^{(t)}$.\n",
    "\n",
    "Equating (3) and (4):\n",
    "\n",
    "\\begin{equation*}\n",
    "a_i^{(t)} (n_{i-1}^{(t-1)} - n_{i+1}^{(t-1)}) = b_i^{(t)} (m_{i+1}^{(t-1)} - m_{i-1}^{(t-1)})\n",
    "\\end{equation*}\n",
    "\n",
    "\\begin{equation*}\n",
    "a_i^{(t)} = \\frac{(m_{i+1}^{(t-1)} - m_{i-1}^{(t-1)})}{(n_{i-1}^{(t-1)} - n_{i+1}^{(t-1)})} b_i^{(t)}\n",
    "\\end{equation*}\n",
    "\n",
    "\\begin{equation*}\n",
    "a_i^{(t)} = \\frac{\\Delta m}{\\Delta n} b_i^{(t)}\n",
    "\\end{equation*}\n",
    "\n",
    "where $\\Delta m$ and $\\Delta n$ are calculable constants obtained from previous timestep: \n",
    "\n",
    "\\begin{equation*}\n",
    "\\Delta m = (m_{i+1}^{(t-1)} - m_{i-1}^{(t-1)})\n",
    "\\end{equation*}\n",
    "\n",
    "\\begin{equation*}\n",
    "\\Delta n = (n_{i-1}^{(t-1)} - n_{i+1}^{(t-1)})\n",
    "\\end{equation*}\n",
    "\n",
    "Expanding (3):\n",
    "\n",
    "\\begin{equation*}\n",
    "(a_i^{(t)})^2 + 2 a_i^{(t)} b_i^{(t)} + (b_i^{(t)})^2 = b_i^{(t)} (m_{i+1}^{(t-1)} - m_{i-1}^{(t-1)})\n",
    "\\end{equation*}\n",
    "\n",
    "Substituting expression for $a_i^{(t)}$ in terms of $b_i^{(t)}$:\n",
    "\n",
    "\\begin{equation*}\n",
    "(\\frac{\\Delta m}{\\Delta n} b_i^{(t)})^2 + 2 (\\frac{\\Delta m}{\\Delta n} b_i^{(t)}) b_i^{(t)} + (b_i^{(t)})^2 = b_i^{(t)} \\Delta m\n",
    "\\end{equation*}\n",
    "\n",
    "\\begin{equation*}\n",
    "(b_i^{(t)})^2 \\left( \\left(\\frac{\\Delta m}{\\Delta n} \\right)^2 + 2\\frac{\\Delta m}{\\Delta n} + 1 \\right) = b_i^{(t)} \\Delta m\n",
    "\\end{equation*}\n",
    "\n",
    "if $b_i^{(t)} \\neq 0$:\n",
    "\n",
    "\\begin{equation*}\n",
    "b_i^{(t)} = \\frac{\\Delta m}{\\left( \\left(\\frac{\\Delta m}{\\Delta n} \\right)^2 + 2\\frac{\\Delta m}{\\Delta n} + 1 \\right)}\n",
    "\\end{equation*}\n",
    "\n",
    "\\begin{equation*}\n",
    "= \\frac{\\Delta m}{\\left( \\frac{\\Delta m}{\\Delta n} + 1 \\right)^2}\n",
    "\\end{equation*}\n",
    "\n",
    "which means:\n",
    "\n",
    "\\begin{equation*}\n",
    "a_i^{(t)} = \\frac{\\Delta m}{\\Delta n} \\frac{\\Delta m}{\\left( \\frac{\\Delta m}{\\Delta n} + 1 \\right)^2}\n",
    "\\end{equation*}\n",
    "\n",
    "Finally, we can plugin values of $a_i^{(t)}$ and $b_i^{(t)}$ into eq (1) and eq (2) to obtain $m_i^{(t)}$ and $n_i^{(t)}$."
   ]
  },
  {
   "cell_type": "markdown",
   "metadata": {},
   "source": [
    "### Initialization:\n",
    "\n",
    "#### Contants:\n",
    "Left end = $-k$ <br>\n",
    "Right end = $l$ <br>\n",
    "Payoff factor = $\\lambda$ <br>\n",
    "\n",
    "#### Positional Boundary Values:\n",
    "$n_{-k}^{(t)} = 1$ -------- $n_{l}^{(t)} = 0$ <br>\n",
    "$m_{-k}^{(t)} = 0$ -------- $m_{l}^{(t)} = \\lambda$ <br>\n",
    "for all time step $t$ <br>\n",
    "\n",
    "#### Time Boundary Values:\n",
    "$m_i^{(0)} = \\frac{\\lambda}{k+l}(i+k)$ <br>\n",
    "$n_i^{(0)} = \\frac{l-i}{k+l}$ <br>\n",
    "for all positions $-k \\leq i \\leq l$ <br>"
   ]
  },
  {
   "attachments": {},
   "cell_type": "markdown",
   "metadata": {},
   "source": [
    "# Junction:\n",
    "\n",
    "At the junction point, we must first pick a direction.\n",
    "\n",
    "\\begin{align}\n",
    "v^{+} &= \\arg \\max_{*}(m^{(t-1)}_{*}) \\tag{5} \\\\\n",
    "v^{-} &= \\arg \\max_{*}(n^{(t-1)}_{*}) \\notag \\\\\n",
    "* &= \\text{neighbors}(v) \\notag\n",
    "\\end{align}"
   ]
  },
  {
   "attachments": {},
   "cell_type": "markdown",
   "metadata": {},
   "source": [
    "Right now, we work on the case where the graph is a single junction. This means the graph i Z from -6 to 6 with 6 more nodes coming out out the top and bottom at index 0"
   ]
  },
  {
   "attachments": {},
   "cell_type": "markdown",
   "metadata": {},
   "source": [
    "\n",
    "\\begin{equation} \\tag{1}\n",
    "m_v^{(t)} = \\frac{a_v^{(t)}}{a_v^{(t)}+b_v^{(t)}} m_{v+}^{(t-1)} + \\frac{b_v^{(t)}}{a_v^{(t)}+b_v^{(t)}} m_{v-}^{(t-1)} - a_v^{(t)}\n",
    "\\end{equation}\n",
    "\n",
    "\\begin{equation*} \\tag{2}\n",
    "n_v^{(t)} = \\frac{a_v^{(t)}}{a_v^{(t)}+b_v^{(t)}} n_{v+}^{(t-1)} + \\frac{b_v^{(t)}}{a_v^{(t)}+b_v^{(t)}} n_{v-}^{(t-1)} - b_v^{(t)}\n",
    "\\end{equation*}\n",
    "\n",
    "\\begin{equation*} \\tag{3}\n",
    "(a_v^{(t)} + b_v^{(t)})^2 = b_v^{(t)} (m_{v+}^{(t-1)} - m_{v-}^{(t-1)})\n",
    "\\end{equation*}\n",
    "\n",
    "\\begin{equation*} \\tag{4}\n",
    "(a_v^{(t)} + b_v^{(t)})^2 = a_v^{(t)} (n_{v-}^{(t-1)} - n_{v+}^{(t-1)})\n",
    "\\end{equation*}\n",
    "\n",
    "\\begin{equation*}\n",
    "\\Delta m = (m_{v+}^{(t-1)} - m_{v-}^{(t-1)})\n",
    "\\end{equation*}\n",
    "\n",
    "\\begin{equation*}\n",
    "\\Delta n = (n_{v-}^{(t-1)} - n_{v+}^{(t-1)})\n",
    "\\end{equation*}"
   ]
  },
  {
   "attachments": {},
   "cell_type": "markdown",
   "metadata": {},
   "source": [
    "We solved this essentially before, im just going to slightly shift the code"
   ]
  },
  {
   "cell_type": "code",
   "execution_count": 22,
   "metadata": {},
   "outputs": [],
   "source": [
    "def find_batteground(a, b, t, tolerance_ratio = 3):\n",
    "    battleground = []\n",
    "\n",
    "    for i in range(len(a[0])):\n",
    "        for j in range(len(a[i])):\n",
    "            m = max(a[t][i][j] , b[t][i][j])\n",
    "            n = min(a[t][i][j] , b[t][i][j])\n",
    "            ratio = m / n if n != 0 else float('inf')\n",
    "            if ratio < tolerance_ratio:\n",
    "                print(ratio)\n",
    "                battleground.append((i,j))\n",
    "\n",
    "    return battleground"
   ]
  },
  {
   "cell_type": "markdown",
   "metadata": {},
   "source": [
    "# How to use OriginCrossGraphSolver"
   ]
  },
  {
   "cell_type": "code",
   "execution_count": 28,
   "metadata": {},
   "outputs": [],
   "source": [
    "from abmn_graph_classes import *\n",
    "cross = OriginCrossGraphSolver(left=6,\n",
    "                         right=6,\n",
    "                         top=6,\n",
    "                         bottom=6,\n",
    "                         time_steps=10,\n",
    "                         horizontal_maxi_reward=1,\n",
    "                         horizontal_mina_reward=0.99,\n",
    "                         vertical_maxi_reward=1,\n",
    "                         vertical_mina_reward=1)"
   ]
  },
  {
   "cell_type": "code",
   "execution_count": null,
   "metadata": {},
   "outputs": [],
   "source": [
    "cross.solve(debug=True)"
   ]
  },
  {
   "cell_type": "markdown",
   "metadata": {},
   "source": [
    "# How to use MatrixGraphSolver:\n",
    "1. Create two np.ndarray of the wanted size populated with np.inf, m_map and n_map\n",
    "2. Draw the path with -np.inf\n",
    "3. Set the boundary conditions\n",
    "4. Get the boundary coordinates\n",
    "5. Initialize the values\n",
    "6. Pass the maps and the boundary coordinates to MatrixGraphSolver"
   ]
  },
  {
   "cell_type": "markdown",
   "metadata": {},
   "source": [
    "# Some observations:\n",
    "\n",
    "- If maxine and mina want to move in the same direction because of how m, n are initialized, v_plus = v_minus, and delta_m = delta_n = 0, hence nana."
   ]
  },
  {
   "cell_type": "code",
   "execution_count": null,
   "metadata": {},
   "outputs": [],
   "source": [
    "\n",
    "mat = np.full((6, 6), -np.inf)\n",
    "n_map = mat.copy()\n",
    "n_map[0, 0] = 10\n",
    "n_map[5, 5] = 0\n",
    "bounds = get_bounds(n_map)\n",
    "n_map = interp_n_matrix(n_map)\n",
    "print(n_map)\n",
    "#n_map = uniform_random(n_map)\n",
    "\n",
    "m_map = mat.copy()\n",
    "m_map[0, 0] = 0\n",
    "m_map[5, 5] = 12\n",
    "m_map = interp_m_matrix(m_map)\n",
    "print(m_map)\n",
    "#m_map = uniform_random(m_map)\n",
    "solver = MatrixGraphSolver(n_map=n_map,\n",
    "                           m_map=m_map,\n",
    "                           time_steps=10,\n",
    "                           boundary_coords=bounds\n",
    "                           )\n",
    "solver.solve(debug=True)\n"
   ]
  },
  {
   "cell_type": "code",
   "execution_count": null,
   "metadata": {},
   "outputs": [],
   "source": []
  },
  {
   "cell_type": "code",
   "execution_count": 84,
   "metadata": {},
   "outputs": [
    {
     "name": "stdout",
     "output_type": "stream",
     "text": [
      "10.03\n"
     ]
    }
   ],
   "source": [
    "from abmn_graph_classes import MatrixGraphSolver\n",
    "from functions import *\n",
    "import numpy as np\n",
    "\n",
    "mat = np.full((7,7), -np.inf)\n",
    "n_map = mat.copy()\n",
    "n_map[0, 0] = 9.97\n",
    "n_map[6, 6] = 0\n",
    "bounds = get_bounds(n_map)\n",
    "n_map = interp_n_matrix(n_map)\n",
    "#n_map = uniform_random(n_map)\n",
    "#print(n_map)\n",
    "\n",
    "\n",
    "m_map = mat.copy()\n",
    "m_map[0, 0] = 0\n",
    "m_map[6, 6] = 10.03\n",
    "m_map = interp_m_matrix(m_map)\n",
    "#m_map = uniform_random(m_map)\n",
    "#print(m_map)\n",
    "\n",
    "solver = MatrixGraphSolver(n_map=n_map,\n",
    "                        m_map=m_map,\n",
    "                        time_steps=500,\n",
    "                        boundary_coords=bounds\n",
    "                        )\n"
   ]
  },
  {
   "cell_type": "code",
   "execution_count": 85,
   "metadata": {},
   "outputs": [
    {
     "name": "stderr",
     "output_type": "stream",
     "text": [
      "/Users/adamousherovitch/GamesResearch/random-turn-games/solvers/abmn_graph_classes.py:252: RuntimeWarning: invalid value encountered in scalar divide\n",
      "  maxi_wager_ratio = self.a[t, i, j] / \\\n",
      "/Users/adamousherovitch/GamesResearch/random-turn-games/solvers/abmn_graph_classes.py:254: RuntimeWarning: invalid value encountered in scalar divide\n",
      "  mina_wager_ratio = self.b[t, i, j] / \\\n",
      "/Users/adamousherovitch/GamesResearch/random-turn-games/solvers/abmn_graph_classes.py:248: RuntimeWarning: divide by zero encountered in scalar divide\n",
      "  self.b[t, i, j] = delta_m / (delta_m / delta_n + 1) \\\n",
      "/Users/adamousherovitch/GamesResearch/random-turn-games/solvers/abmn_graph_classes.py:249: RuntimeWarning: divide by zero encountered in scalar divide\n",
      "  / (delta_m / delta_n + 1)\n",
      "/Users/adamousherovitch/GamesResearch/random-turn-games/solvers/abmn_graph_classes.py:250: RuntimeWarning: divide by zero encountered in scalar divide\n",
      "  self.a[t, i, j] = (delta_m / delta_n) * self.b[t, i, j]\n",
      "/Users/adamousherovitch/GamesResearch/random-turn-games/solvers/abmn_graph_classes.py:250: RuntimeWarning: invalid value encountered in scalar multiply\n",
      "  self.a[t, i, j] = (delta_m / delta_n) * self.b[t, i, j]\n"
     ]
    }
   ],
   "source": [
    "solver.solve(debug=False)\n",
    "#solver.m[499]"
   ]
  },
  {
   "cell_type": "code",
   "execution_count": 86,
   "metadata": {},
   "outputs": [
    {
     "data": {
      "image/png": "[encoded data removed]",
      "text/plain": [
       "<Figure size 640x480 with 1 Axes>"
      ]
     },
     "metadata": {},
     "output_type": "display_data"
    }
   ],
   "source": [
    "import matplotlib.pyplot as plt\n",
    "\n",
    "coords = solver.find_batteground(499)\n",
    "plt.scatter(*zip(*[(i, j) for i in range(mat.shape[0]) for j in range(mat.shape[1])]), c='purple')\n",
    "plt.scatter(*zip(*coords), c='red', marker='x', s=100)\n",
    "plt.scatter(*zip(*bounds), c='black', marker='x', s=100)\n",
    "plt.title('Battleground')\n",
    "plt.grid(True)\n",
    "plt.show()\n",
    "\n",
    "\n",
    "\n",
    "\n"
   ]
  },
  {
   "cell_type": "code",
   "execution_count": null,
   "metadata": {},
   "outputs": [],
   "source": []
  },
  {
   "cell_type": "code",
   "execution_count": null,
   "metadata": {},
   "outputs": [],
   "source": []
  }
 ],
 "metadata": {
  "kernelspec": {
   "display_name": "myenv",
   "language": "python",
   "name": "python3"
  },
  "language_info": {
   "codemirror_mode": {
    "name": "ipython",
    "version": 3
   },
   "file_extension": ".py",
   "mimetype": "text/x-python",
   "name": "python",
   "nbconvert_exporter": "python",
   "pygments_lexer": "ipython3",
   "version": "3.11.5"
  },
  "vscode": {
   "interpreter": {
    "hash": "8ff6a0c968a08784f678278e0ffcff5e26ba6040b0db9d7bd944b8e1a033ad1f"
   }
  }
 },
 "nbformat": 4,
 "nbformat_minor": 4
}
