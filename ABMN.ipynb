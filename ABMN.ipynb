{
 "cells": [
  {
   "cell_type": "code",
   "execution_count": 2,
   "metadata": {},
   "outputs": [],
   "source": [
    "import numpy as np\n",
    "from matplotlib import pyplot as plt"
   ]
  },
  {
   "cell_type": "markdown",
   "metadata": {},
   "source": [
    "\\begin{equation*}\n",
    "(a_i + b_i)(m_i + a_i) = a_i m_{i+1} + b_i m_{i-1} \\implies m_{i+1} = \\frac{1}{a_i}[(a_i + b_i)(m_i + a_i) - b_i m_{i-1}]\n",
    "\\end{equation*}\n",
    "\n",
    "\\begin{equation*}\n",
    "(a_i + b_i)(n_i + b_i) = a_i n_{i+1} + b_i n_{i-1} \\implies n_{i+1} = \\frac{1}{a_i}[(a_i + b_i)(n_i + a_i) - b_i n_{i-1}]\n",
    "\\end{equation*}\n",
    "\n",
    "\\begin{equation*}\n",
    "(a_i + b_i)^2 = b_i (m_{i+1} - m_{i-1}) \\implies m_{i+1} = \\frac{1}{b_i} [(a_i + b_i)^2 + b_i m_{i-1}]\n",
    "\\end{equation*}\n",
    "\n",
    "\\begin{equation*}\n",
    "(a_i + b_i)^2 = a_i (n_{i-1} - n_{i+1}) \\implies n_{i+1} = \\frac{1}{a_i} [a_i n_{i-1} - (a_i + b_i)^2]\n",
    "\\end{equation*}"
   ]
  },
  {
   "cell_type": "code",
   "execution_count": null,
   "metadata": {},
   "outputs": [],
   "source": [
    "# a_i, b_i are time n\n",
    "# m_i, n_i are time n\n",
    "# m_i-1, n_i-1 are time n-1"
   ]
  },
  {
   "cell_type": "markdown",
   "metadata": {},
   "source": [
    "### Equations:\n",
    "\n",
    "\\begin{equation*}\n",
    "m_i^{(t)} = \\frac{a_i^{(t)}}{a_i^{(t)}+b_t^{(t)}} m_{i+1}^{(t-1)} + \\frac{b_i^{(t)}}{a_i^{(t)}+b_t^{(t)}} m_{i-1}^{(t-1)} - a_i^{(t)}\n",
    "\\end{equation*}\n",
    "\n",
    "\\begin{equation*}\n",
    "n_i^{(t)} = \\frac{a_i^{(t)}}{a_i^{(t)}+b_t^{(t)}} n_{i+1}^{(t-1)} + \\frac{b_i^{(t)}}{a_i^{(t)}+b_t^{(t)}} n_{i-1}^{(t-1)} - b_i^{(t)}\n",
    "\\end{equation*}\n",
    "\n",
    "\\begin{equation*}\n",
    "(a_i^{(t)} + b_i^{(t)})^2 = b_i^{(t)} (m_{i+1}^{(t-1)} - m_{i-1}^{(t-1)})\n",
    "\\end{equation*}\n",
    "\n",
    "\\begin{equation*}\n",
    "(a_i^{(t)} + b_i^{(t)})^2 = a_i^{(t)} (n_{i-1}^{(t-1)} - n_{i+1}^{(t-1)})\n",
    "\\end{equation*}"
   ]
  },
  {
   "cell_type": "markdown",
   "metadata": {},
   "source": [
    "### Initialization:"
   ]
  },
  {
   "cell_type": "code",
   "execution_count": 3,
   "metadata": {},
   "outputs": [],
   "source": [
    "N = 100\n",
    "\n",
    "a = np.zeros(N)\n",
    "b = np.zeros(N)\n",
    "m = np.zeros(N)\n",
    "n = np.zeros(N)"
   ]
  },
  {
   "cell_type": "code",
   "execution_count": 4,
   "metadata": {},
   "outputs": [],
   "source": [
    "MIN, MAX = 0, 1\n",
    "\n",
    "a[0] = np.random.uniform(MIN, MAX)\n",
    "a[1] = np.random.uniform(MIN, MAX)\n",
    "b[0] = np.random.uniform(MIN, MAX)\n",
    "b[1] = np.random.uniform(MIN, MAX)\n",
    "m[0] = np.random.uniform(MIN, MAX)\n",
    "m[1] = np.random.uniform(MIN, MAX)\n",
    "n[0] = np.random.uniform(MIN, MAX)\n",
    "n[1] = np.random.uniform(MIN, MAX)"
   ]
  },
  {
   "cell_type": "code",
   "execution_count": 5,
   "metadata": {},
   "outputs": [
    {
     "data": {
      "text/plain": [
       "array([0.87580885, 0.47023577, 0.        ])"
      ]
     },
     "execution_count": 5,
     "metadata": {},
     "output_type": "execute_result"
    }
   ],
   "source": []
  },
  {
   "cell_type": "code",
   "execution_count": null,
   "metadata": {},
   "outputs": [],
   "source": []
  }
 ],
 "metadata": {
  "kernelspec": {
   "display_name": "Python 3",
   "language": "python",
   "name": "python3"
  },
  "language_info": {
   "codemirror_mode": {
    "name": "ipython",
    "version": 3
   },
   "file_extension": ".py",
   "mimetype": "text/x-python",
   "name": "python",
   "nbconvert_exporter": "python",
   "pygments_lexer": "ipython3",
   "version": "3.8.5"
  }
 },
 "nbformat": 4,
 "nbformat_minor": 4
}
